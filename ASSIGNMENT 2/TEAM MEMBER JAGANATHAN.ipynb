{
  "nbformat": 4,
  "nbformat_minor": 0,
  "metadata": {
    "colab": {
      "provenance": [],
      "toc_visible": true
    },
    "kernelspec": {
      "name": "python3",
      "display_name": "Python 3"
    },
    "language_info": {
      "name": "python"
    }
  },
  "cells": [
    {
      "cell_type": "markdown",
      "source": [
        "# New Section"
      ],
      "metadata": {
        "id": "uxvVjsVYeRrV"
      }
    },
    {
      "cell_type": "markdown",
      "source": [
        "Build a python code assume u get temperature and humidity values and write a condition to contionously detect alarm in case of high temperature"
      ],
      "metadata": {
        "id": "Fb7Xsw6Fh0Yt"
      }
    },
    {
      "cell_type": "code",
      "source": [
        "from random import randrange\n",
        "from time import sleep\n",
        "\n",
        "threshold=35\n",
        "\n",
        "print('Checking Temperature And Humidity')\n",
        "while True:\n",
        "    temperature=randrange(10,50,1)\n",
        "    humidity=randrange(10,90,1)\n",
        "    print(\"Temperature :\",temperature,\"°C , Humidity :\",humidity,\"%\")\n",
        "    if temperature>threshold and humidity<threshold:\n",
        "        break\n",
        "    sleep(1)\n",
        "\n",
        "print(\"Warning!!! Temperature Is High And Humidity Is Low!\")"
      ],
      "metadata": {
        "colab": {
          "base_uri": "https://localhost:8080/"
        },
        "id": "tyxHZYiYhspt",
        "outputId": "87003cd6-50ba-485d-cfba-a6eb2399531c"
      },
      "execution_count": 2,
      "outputs": [
        {
          "output_type": "stream",
          "name": "stdout",
          "text": [
            "Checking Temperature And Humidity\n",
            "Temperature : 21 °C , Humidity : 20 %\n",
            "Temperature : 20 °C , Humidity : 26 %\n",
            "Temperature : 42 °C , Humidity : 62 %\n",
            "Temperature : 44 °C , Humidity : 34 %\n",
            "Warning!!! Temperature Is High And Humidity Is Low!\n"
          ]
        }
      ]
    }
  ]
}